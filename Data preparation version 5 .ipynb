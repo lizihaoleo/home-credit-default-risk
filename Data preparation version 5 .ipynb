{
 "cells": [
  {
   "cell_type": "code",
   "execution_count": 1,
   "metadata": {},
   "outputs": [
    {
     "name": "stderr",
     "output_type": "stream",
     "text": [
      "/home/lizihaoleo/anaconda3/lib/python3.6/site-packages/sklearn/cross_validation.py:41: DeprecationWarning: This module was deprecated in version 0.18 in favor of the model_selection module into which all the refactored classes and functions are moved. Also note that the interface of the new CV iterators are different from that of this module. This module will be removed in 0.20.\n",
      "  \"This module will be removed in 0.20.\", DeprecationWarning)\n"
     ]
    }
   ],
   "source": [
    "import numpy as np\n",
    "import pandas as pd\n",
    "from tqdm import tqdm_notebook as tqdm\n",
    "from sklearn.externals import joblib\n",
    "%matplotlib inline\n",
    "import seaborn as sns\n",
    "import gc\n",
    "from helper import *\n",
    "# ref: https://www.kaggle.com/willkoehrsen/automated-feature-engineering-basics"
   ]
  },
  {
   "cell_type": "code",
   "execution_count": 2,
   "metadata": {},
   "outputs": [
    {
     "data": {
      "text/html": [
       "<div>\n",
       "<style scoped>\n",
       "    .dataframe tbody tr th:only-of-type {\n",
       "        vertical-align: middle;\n",
       "    }\n",
       "\n",
       "    .dataframe tbody tr th {\n",
       "        vertical-align: top;\n",
       "    }\n",
       "\n",
       "    .dataframe thead th {\n",
       "        text-align: right;\n",
       "    }\n",
       "</style>\n",
       "<table border=\"1\" class=\"dataframe\">\n",
       "  <thead>\n",
       "    <tr style=\"text-align: right;\">\n",
       "      <th></th>\n",
       "      <th>Unnamed: 0</th>\n",
       "      <th>feature</th>\n",
       "      <th>importance</th>\n",
       "    </tr>\n",
       "  </thead>\n",
       "  <tbody>\n",
       "    <tr>\n",
       "      <th>0</th>\n",
       "      <td>0</td>\n",
       "      <td>COMMONAREA_MODE</td>\n",
       "      <td>37.6</td>\n",
       "    </tr>\n",
       "    <tr>\n",
       "      <th>1</th>\n",
       "      <td>1</td>\n",
       "      <td>NEW_ANNUITY_TO_INCOME_RATIO</td>\n",
       "      <td>192.4</td>\n",
       "    </tr>\n",
       "    <tr>\n",
       "      <th>2</th>\n",
       "      <td>2</td>\n",
       "      <td>FLAG_DOCUMENT_9</td>\n",
       "      <td>0.0</td>\n",
       "    </tr>\n",
       "    <tr>\n",
       "      <th>3</th>\n",
       "      <td>3</td>\n",
       "      <td>LIVINGAPARTMENTS_MODE</td>\n",
       "      <td>27.6</td>\n",
       "    </tr>\n",
       "    <tr>\n",
       "      <th>4</th>\n",
       "      <td>4</td>\n",
       "      <td>EXT_SOURCE_3</td>\n",
       "      <td>429.6</td>\n",
       "    </tr>\n",
       "  </tbody>\n",
       "</table>\n",
       "</div>"
      ],
      "text/plain": [
       "   Unnamed: 0                      feature  importance\n",
       "0           0              COMMONAREA_MODE        37.6\n",
       "1           1  NEW_ANNUITY_TO_INCOME_RATIO       192.4\n",
       "2           2              FLAG_DOCUMENT_9         0.0\n",
       "3           3        LIVINGAPARTMENTS_MODE        27.6\n",
       "4           4                 EXT_SOURCE_3       429.6"
      ]
     },
     "execution_count": 2,
     "metadata": {},
     "output_type": "execute_result"
    }
   ],
   "source": [
    "fi = pd.read_csv('./input/fi_fma.csv')\n",
    "fi.head()"
   ]
  },
  {
   "cell_type": "code",
   "execution_count": 3,
   "metadata": {},
   "outputs": [],
   "source": [
    "importance_mean = fi.describe().loc['mean'][1]\n",
    "selected_features = fi.loc[fi['importance'] >= importance_mean] # greater than average\n",
    "selected_features = list(selected_features['feature'])\n",
    "selected_features.append('SK_ID_CURR')"
   ]
  },
  {
   "cell_type": "code",
   "execution_count": 4,
   "metadata": {},
   "outputs": [
    {
     "ename": "KeyboardInterrupt",
     "evalue": "",
     "output_type": "error",
     "traceback": [
      "\u001b[0;31m---------------------------------------------------------------------------\u001b[0m",
      "\u001b[0;31mKeyboardInterrupt\u001b[0m                         Traceback (most recent call last)",
      "\u001b[0;32m~/anaconda3/lib/python3.6/site-packages/pandas/io/parsers.py\u001b[0m in \u001b[0;36mread\u001b[0;34m(self, nrows)\u001b[0m\n\u001b[1;32m   1847\u001b[0m         \u001b[0;32mtry\u001b[0m\u001b[0;34m:\u001b[0m\u001b[0;34m\u001b[0m\u001b[0m\n\u001b[0;32m-> 1848\u001b[0;31m             \u001b[0mdata\u001b[0m \u001b[0;34m=\u001b[0m \u001b[0mself\u001b[0m\u001b[0;34m.\u001b[0m\u001b[0m_reader\u001b[0m\u001b[0;34m.\u001b[0m\u001b[0mread\u001b[0m\u001b[0;34m(\u001b[0m\u001b[0mnrows\u001b[0m\u001b[0;34m)\u001b[0m\u001b[0;34m\u001b[0m\u001b[0m\n\u001b[0m\u001b[1;32m   1849\u001b[0m         \u001b[0;32mexcept\u001b[0m \u001b[0mStopIteration\u001b[0m\u001b[0;34m:\u001b[0m\u001b[0;34m\u001b[0m\u001b[0m\n",
      "\u001b[0;32mpandas/_libs/parsers.pyx\u001b[0m in \u001b[0;36mpandas._libs.parsers.TextReader.read\u001b[0;34m()\u001b[0m\n",
      "\u001b[0;32mpandas/_libs/parsers.pyx\u001b[0m in \u001b[0;36mpandas._libs.parsers.TextReader._read_low_memory\u001b[0;34m()\u001b[0m\n",
      "\u001b[0;32mpandas/_libs/parsers.pyx\u001b[0m in \u001b[0;36mpandas._libs.parsers._concatenate_chunks\u001b[0;34m()\u001b[0m\n",
      "\u001b[0;32m~/anaconda3/lib/python3.6/site-packages/pandas/core/dtypes/common.py\u001b[0m in \u001b[0;36mis_categorical_dtype\u001b[0;34m(arr_or_dtype)\u001b[0m\n\u001b[1;32m    512\u001b[0m \u001b[0;34m\u001b[0m\u001b[0m\n\u001b[0;32m--> 513\u001b[0;31m \u001b[0;32mdef\u001b[0m \u001b[0mis_categorical_dtype\u001b[0m\u001b[0;34m(\u001b[0m\u001b[0marr_or_dtype\u001b[0m\u001b[0;34m)\u001b[0m\u001b[0;34m:\u001b[0m\u001b[0;34m\u001b[0m\u001b[0m\n\u001b[0m\u001b[1;32m    514\u001b[0m     \"\"\"\n",
      "\u001b[0;31mKeyboardInterrupt\u001b[0m: ",
      "\nDuring handling of the above exception, another exception occurred:\n",
      "\u001b[0;31mKeyboardInterrupt\u001b[0m                         Traceback (most recent call last)",
      "\u001b[0;32m<ipython-input-4-a2a9a42e543f>\u001b[0m in \u001b[0;36m<module>\u001b[0;34m()\u001b[0m\n\u001b[0;32m----> 1\u001b[0;31m \u001b[0mX\u001b[0m \u001b[0;34m=\u001b[0m \u001b[0mreduce_mem_usage\u001b[0m\u001b[0;34m(\u001b[0m\u001b[0mpd\u001b[0m\u001b[0;34m.\u001b[0m\u001b[0mread_csv\u001b[0m\u001b[0;34m(\u001b[0m\u001b[0;34m'./input/feature_matrix_advanced.csv'\u001b[0m\u001b[0;34m)\u001b[0m\u001b[0;34m)\u001b[0m\u001b[0;34m\u001b[0m\u001b[0m\n\u001b[0m",
      "\u001b[0;32m~/anaconda3/lib/python3.6/site-packages/pandas/io/parsers.py\u001b[0m in \u001b[0;36mparser_f\u001b[0;34m(filepath_or_buffer, sep, delimiter, header, names, index_col, usecols, squeeze, prefix, mangle_dupe_cols, dtype, engine, converters, true_values, false_values, skipinitialspace, skiprows, nrows, na_values, keep_default_na, na_filter, verbose, skip_blank_lines, parse_dates, infer_datetime_format, keep_date_col, date_parser, dayfirst, iterator, chunksize, compression, thousands, decimal, lineterminator, quotechar, quoting, escapechar, comment, encoding, dialect, tupleize_cols, error_bad_lines, warn_bad_lines, skipfooter, doublequote, delim_whitespace, low_memory, memory_map, float_precision)\u001b[0m\n\u001b[1;32m    676\u001b[0m                     skip_blank_lines=skip_blank_lines)\n\u001b[1;32m    677\u001b[0m \u001b[0;34m\u001b[0m\u001b[0m\n\u001b[0;32m--> 678\u001b[0;31m         \u001b[0;32mreturn\u001b[0m \u001b[0m_read\u001b[0m\u001b[0;34m(\u001b[0m\u001b[0mfilepath_or_buffer\u001b[0m\u001b[0;34m,\u001b[0m \u001b[0mkwds\u001b[0m\u001b[0;34m)\u001b[0m\u001b[0;34m\u001b[0m\u001b[0m\n\u001b[0m\u001b[1;32m    679\u001b[0m \u001b[0;34m\u001b[0m\u001b[0m\n\u001b[1;32m    680\u001b[0m     \u001b[0mparser_f\u001b[0m\u001b[0;34m.\u001b[0m\u001b[0m__name__\u001b[0m \u001b[0;34m=\u001b[0m \u001b[0mname\u001b[0m\u001b[0;34m\u001b[0m\u001b[0m\n",
      "\u001b[0;32m~/anaconda3/lib/python3.6/site-packages/pandas/io/parsers.py\u001b[0m in \u001b[0;36m_read\u001b[0;34m(filepath_or_buffer, kwds)\u001b[0m\n\u001b[1;32m    444\u001b[0m \u001b[0;34m\u001b[0m\u001b[0m\n\u001b[1;32m    445\u001b[0m     \u001b[0;32mtry\u001b[0m\u001b[0;34m:\u001b[0m\u001b[0;34m\u001b[0m\u001b[0m\n\u001b[0;32m--> 446\u001b[0;31m         \u001b[0mdata\u001b[0m \u001b[0;34m=\u001b[0m \u001b[0mparser\u001b[0m\u001b[0;34m.\u001b[0m\u001b[0mread\u001b[0m\u001b[0;34m(\u001b[0m\u001b[0mnrows\u001b[0m\u001b[0;34m)\u001b[0m\u001b[0;34m\u001b[0m\u001b[0m\n\u001b[0m\u001b[1;32m    447\u001b[0m     \u001b[0;32mfinally\u001b[0m\u001b[0;34m:\u001b[0m\u001b[0;34m\u001b[0m\u001b[0m\n\u001b[1;32m    448\u001b[0m         \u001b[0mparser\u001b[0m\u001b[0;34m.\u001b[0m\u001b[0mclose\u001b[0m\u001b[0;34m(\u001b[0m\u001b[0;34m)\u001b[0m\u001b[0;34m\u001b[0m\u001b[0m\n",
      "\u001b[0;32m~/anaconda3/lib/python3.6/site-packages/pandas/io/parsers.py\u001b[0m in \u001b[0;36mread\u001b[0;34m(self, nrows)\u001b[0m\n\u001b[1;32m   1034\u001b[0m                 \u001b[0;32mraise\u001b[0m \u001b[0mValueError\u001b[0m\u001b[0;34m(\u001b[0m\u001b[0;34m'skipfooter not supported for iteration'\u001b[0m\u001b[0;34m)\u001b[0m\u001b[0;34m\u001b[0m\u001b[0m\n\u001b[1;32m   1035\u001b[0m \u001b[0;34m\u001b[0m\u001b[0m\n\u001b[0;32m-> 1036\u001b[0;31m         \u001b[0mret\u001b[0m \u001b[0;34m=\u001b[0m \u001b[0mself\u001b[0m\u001b[0;34m.\u001b[0m\u001b[0m_engine\u001b[0m\u001b[0;34m.\u001b[0m\u001b[0mread\u001b[0m\u001b[0;34m(\u001b[0m\u001b[0mnrows\u001b[0m\u001b[0;34m)\u001b[0m\u001b[0;34m\u001b[0m\u001b[0m\n\u001b[0m\u001b[1;32m   1037\u001b[0m \u001b[0;34m\u001b[0m\u001b[0m\n\u001b[1;32m   1038\u001b[0m         \u001b[0;31m# May alter columns / col_dict\u001b[0m\u001b[0;34m\u001b[0m\u001b[0;34m\u001b[0m\u001b[0m\n",
      "\u001b[0;32m~/anaconda3/lib/python3.6/site-packages/pandas/io/parsers.py\u001b[0m in \u001b[0;36mread\u001b[0;34m(self, nrows)\u001b[0m\n\u001b[1;32m   1846\u001b[0m     \u001b[0;32mdef\u001b[0m \u001b[0mread\u001b[0m\u001b[0;34m(\u001b[0m\u001b[0mself\u001b[0m\u001b[0;34m,\u001b[0m \u001b[0mnrows\u001b[0m\u001b[0;34m=\u001b[0m\u001b[0;32mNone\u001b[0m\u001b[0;34m)\u001b[0m\u001b[0;34m:\u001b[0m\u001b[0;34m\u001b[0m\u001b[0m\n\u001b[1;32m   1847\u001b[0m         \u001b[0;32mtry\u001b[0m\u001b[0;34m:\u001b[0m\u001b[0;34m\u001b[0m\u001b[0m\n\u001b[0;32m-> 1848\u001b[0;31m             \u001b[0mdata\u001b[0m \u001b[0;34m=\u001b[0m \u001b[0mself\u001b[0m\u001b[0;34m.\u001b[0m\u001b[0m_reader\u001b[0m\u001b[0;34m.\u001b[0m\u001b[0mread\u001b[0m\u001b[0;34m(\u001b[0m\u001b[0mnrows\u001b[0m\u001b[0;34m)\u001b[0m\u001b[0;34m\u001b[0m\u001b[0m\n\u001b[0m\u001b[1;32m   1849\u001b[0m         \u001b[0;32mexcept\u001b[0m \u001b[0mStopIteration\u001b[0m\u001b[0;34m:\u001b[0m\u001b[0;34m\u001b[0m\u001b[0m\n\u001b[1;32m   1850\u001b[0m             \u001b[0;32mif\u001b[0m \u001b[0mself\u001b[0m\u001b[0;34m.\u001b[0m\u001b[0m_first_chunk\u001b[0m\u001b[0;34m:\u001b[0m\u001b[0;34m\u001b[0m\u001b[0m\n",
      "\u001b[0;31mKeyboardInterrupt\u001b[0m: "
     ]
    }
   ],
   "source": [
    "X = reduce_mem_usage(pd.read_csv('./input/feature_matrix_advanced.csv'))"
   ]
  },
  {
   "cell_type": "code",
   "execution_count": null,
   "metadata": {},
   "outputs": [],
   "source": [
    "train = X[X['set'] == 'train']\n",
    "test = X[X['set'] == 'test']\n",
    "test = test.drop(columns = ['set', 'TARGET'])"
   ]
  },
  {
   "cell_type": "code",
   "execution_count": null,
   "metadata": {},
   "outputs": [],
   "source": [
    "train.head()"
   ]
  },
  {
   "cell_type": "code",
   "execution_count": null,
   "metadata": {},
   "outputs": [],
   "source": [
    "test.head()"
   ]
  },
  {
   "cell_type": "code",
   "execution_count": null,
   "metadata": {},
   "outputs": [],
   "source": [
    "submission, fi_gbm, metrics, valid_pd = lgb_model(app_train, app_test)"
   ]
  },
  {
   "cell_type": "code",
   "execution_count": null,
   "metadata": {},
   "outputs": [],
   "source": [
    "metrics"
   ]
  },
  {
   "cell_type": "code",
   "execution_count": null,
   "metadata": {},
   "outputs": [],
   "source": []
  },
  {
   "cell_type": "code",
   "execution_count": 10,
   "metadata": {},
   "outputs": [
    {
     "ename": "KeyError",
     "evalue": "\"['ORGANIZATION_TYPE' 'DAYS_EMPLOYED' 'AMT_GOODS_PRICE' 'OCCUPATION_TYPE'\\n 'MODE(previous_app.PRODUCT_COMBINATION)' 'CODE_GENDER'\\n 'MIN(installments.AMT_PAYMENT)'\\n 'MEAN(previous_app.MEAN(cash.CNT_INSTALMENT_FUTURE))'\\n 'SUM(bureau.AMT_CREDIT_SUM_DEBT)' 'MEAN(bureau.AMT_CREDIT_MAX_OVERDUE)'\\n 'STD(previous_app.CNT_PAYMENT)' 'MAX(cash.SK_ID_CURR)'\\n 'NAME_FAMILY_STATUS' 'STD(bureau.DAYS_CREDIT_ENDDATE)' 'TOTALAREA_MODE'\\n 'MAX(previous_app.MEAN(cash.CNT_INSTALMENT_FUTURE))'\\n 'SUM(previous_app.MIN(cash.CNT_INSTALMENT_FUTURE))'\\n 'MAX(previous_app.SELLERPLACE_AREA)'\\n 'STD(previous_app.MIN(cash.CNT_INSTALMENT_FUTURE))' 'NAME_EDUCATION_TYPE'\\n 'STD(bureau.DAYS_CREDIT_UPDATE)' 'MAX(bureau.AMT_CREDIT_MAX_OVERDUE)'\\n 'SKEW(previous_app.COUNT(installments))'\\n 'MODE(previous_app.NAME_GOODS_CATEGORY)' 'REGION_RATING_CLIENT_W_CITY'\\n 'MEAN(previous_app.SKEW(installments.AMT_PAYMENT))'\\n 'MIN(previous_app.MAX(installments.AMT_INSTALMENT))'\\n 'MIN(previous_app.SUM(installments.SK_ID_CURR))'\\n 'STD(previous_app.SKEW(installments.DAYS_ENTRY_PAYMENT))'\\n 'SKEW(previous_app.AMT_APPLICATION)'\\n 'SUM(previous_app.SKEW(installments.AMT_PAYMENT))'\\n 'MAX(previous_app.AMT_DOWN_PAYMENT)' 'STD(bureau.AMT_CREDIT_SUM_DEBT)'\\n 'MIN(previous_app.SUM(cash.SK_ID_CURR))'\\n 'MEAN(previous_app.SUM(cash.SK_ID_CURR))'\\n 'SUM(previous_app.MIN(installments.AMT_INSTALMENT))'\\n 'MEAN(cash.CNT_INSTALMENT_FUTURE)'\\n 'MAX(previous_app.MIN(installments.AMT_PAYMENT))'\\n 'STD(bureau.AMT_CREDIT_SUM)'\\n 'MEAN(previous_app.MIN(installments.AMT_INSTALMENT))'\\n 'SUM(previous_app.HOUR_APPR_PROCESS_START)'\\n 'MAX(previous_app.AMT_CREDIT)' 'SUM(cash.SK_ID_CURR)'\\n 'STD(previous_app.AMT_ANNUITY)' 'SUM(installments.SK_ID_CURR)'\\n 'APARTMENTS_MODE' 'SUM(bureau.DAYS_ENDDATE_FACT)'\\n 'SUM(previous_app.DAYS_LAST_DUE_1ST_VERSION)'\\n 'MAX(installments.DAYS_INSTALMENT)'\\n 'MAX(previous_app.SUM(installments.AMT_PAYMENT))'\\n 'STD(previous_app.SKEW(installments.NUM_INSTALMENT_NUMBER))'\\n 'SKEW(installments.DAYS_INSTALMENT)' 'SUM(bureau.DAYS_CREDIT_UPDATE)'\\n 'SUM(previous_app.STD(cash.CNT_INSTALMENT))'\\n 'STD(previous_app.DAYS_TERMINATION)'\\n 'MEAN(previous_app.SUM(installments.SK_ID_CURR))'\\n 'STD(previous_app.SUM(installments.AMT_PAYMENT))'\\n 'STD(cash.CNT_INSTALMENT_FUTURE)'\\n 'MAX(previous_app.SUM(cash.SK_ID_CURR))'\\n 'MIN(previous_app.STD(installments.AMT_INSTALMENT))'\\n 'SUM(previous_app.MAX(installments.SK_ID_CURR))'\\n 'MIN(previous_app.MEAN(installments.AMT_INSTALMENT))'\\n 'NAME_CONTRACT_TYPE' 'YEARS_BEGINEXPLUATATION_MODE'\\n 'SKEW(installments.AMT_INSTALMENT)'\\n 'SUM(previous_app.MEAN(installments.AMT_PAYMENT))'\\n 'SKEW(previous_app.AMT_CREDIT)'\\n 'MIN(previous_app.MAX(installments.AMT_PAYMENT))'\\n 'MAX(previous_app.STD(installments.NUM_INSTALMENT_VERSION))'\\n 'STD(previous_app.SKEW(installments.DAYS_INSTALMENT))'\\n 'SUM(previous_app.MEAN(installments.NUM_INSTALMENT_VERSION))'\\n 'SKEW(bureau.STD(bureau_balance.MONTHS_BALANCE))'\\n 'STD(previous_app.SUM(installments.AMT_INSTALMENT))'\\n 'SUM(previous_app.STD(installments.AMT_PAYMENT))' 'BASEMENTAREA_MODE'\\n 'MODE(previous_app.CODE_REJECT_REASON)' 'LIVINGAREA_MODE'\\n 'MIN(previous_app.SELLERPLACE_AREA)' 'SUM(bureau_balance.MONTHS_BALANCE)'\\n 'MAX(previous_app.STD(installments.AMT_PAYMENT))'\\n 'MEAN(previous_app.SUM(installments.AMT_INSTALMENT))'\\n 'MAX(bureau.AMT_CREDIT_SUM_LIMIT)' 'MEAN(previous_app.AMT_CREDIT)'\\n 'MAX(previous_app.MEAN(credit.CNT_DRAWINGS_ATM_CURRENT))'\\n 'SUM(previous_app.AMT_ANNUITY)' 'LANDAREA_MEDI'\\n 'MEAN(previous_app.AMT_APPLICATION)'\\n 'STD(previous_app.SUM(cash.SK_ID_CURR))'\\n 'MAX(previous_app.MEAN(installments.AMT_PAYMENT))'\\n 'STD(previous_app.SKEW(installments.AMT_INSTALMENT))'\\n 'MEAN(previous_app.MEAN(installments.NUM_INSTALMENT_VERSION))'\\n 'MAX(previous_app.MIN(installments.AMT_INSTALMENT))'\\n 'STD(installments.DAYS_INSTALMENT)' 'NONLIVINGAREA_AVG'\\n 'MAX(bureau.AMT_ANNUITY)'\\n 'STD(previous_app.MIN(installments.AMT_INSTALMENT))'\\n 'MIN(previous_app.AMT_CREDIT)' 'MODE(previous_app.NAME_TYPE_SUITE)'\\n 'STD(previous_app.SUM(installments.DAYS_INSTALMENT))'\\n 'SUM(previous_app.MEAN(cash.CNT_INSTALMENT_FUTURE))'\\n 'MODE(previous_app.NAME_CONTRACT_STATUS)'\\n 'MEAN(installments.AMT_INSTALMENT)'\\n 'STD(previous_app.MEAN(cash.CNT_INSTALMENT_FUTURE))'\\n 'MAX(previous_app.MEAN(installments.DAYS_ENTRY_PAYMENT))'\\n 'MODE(previous_app.CHANNEL_TYPE)' 'MAX(previous_app.SKEW(cash.SK_DPD))'\\n 'MAX(previous_app.SUM(installments.SK_ID_CURR))'\\n 'MEAN(previous_app.STD(cash.SK_DPD_DEF))'\\n 'MEAN(previous_app.DAYS_TERMINATION)'\\n 'MEAN(previous_app.STD(installments.AMT_PAYMENT))'\\n 'SUM(previous_app.DAYS_TERMINATION)' 'SUM(cash.CNT_INSTALMENT)'\\n 'SUM(previous_app.MIN(cash.SK_ID_CURR))' 'MEAN(cash.MONTHS_BALANCE)'\\n 'MEAN(previous_app.STD(installments.NUM_INSTALMENT_VERSION))'\\n 'STD(bureau_balance.MONTHS_BALANCE)' 'MAX(previous_app.AMT_APPLICATION)'\\n 'STD(installments.DAYS_ENTRY_PAYMENT)'\\n 'MAX(previous_app.STD(installments.DAYS_ENTRY_PAYMENT))'\\n 'NONLIVINGAREA_MEDI' 'SUM(installments.AMT_INSTALMENT)'\\n 'MAX(previous_app.SUM(cash.CNT_INSTALMENT_FUTURE))'\\n 'SUM(previous_app.SKEW(installments.NUM_INSTALMENT_NUMBER))'\\n 'STD(previous_app.MIN(installments.AMT_PAYMENT))' 'COMMONAREA_MODE'\\n 'STD(installments.AMT_PAYMENT)'\\n 'MIN(previous_app.SUM(cash.CNT_INSTALMENT))'\\n 'MEAN(installments.NUM_INSTALMENT_NUMBER)'\\n 'STD(bureau.MIN(bureau_balance.MONTHS_BALANCE))'\\n 'SUM(previous_app.AMT_CREDIT)'\\n 'SKEW(previous_app.MEAN(installments.AMT_PAYMENT))'\\n 'MIN(previous_app.SUM(installments.DAYS_ENTRY_PAYMENT))'\\n 'WEEKDAY_APPR_PROCESS_START' 'SUM(previous_app.STD(cash.MONTHS_BALANCE))'\\n 'MAX(credit.SK_ID_CURR)'\\n 'SKEW(previous_app.MEAN(installments.AMT_INSTALMENT))'\\n 'MAX(previous_app.MEAN(cash.MONTHS_BALANCE))'\\n 'STD(previous_app.MEAN(installments.AMT_INSTALMENT))'\\n 'MAX(previous_app.DAYS_FIRST_DUE)'\\n 'MAX(previous_app.SUM(installments.NUM_INSTALMENT_VERSION))'\\n 'STD(previous_app.MEAN(installments.NUM_INSTALMENT_VERSION))'\\n 'SUM(previous_app.STD(cash.CNT_INSTALMENT_FUTURE))'\\n 'STD(previous_app.SKEW(installments.AMT_PAYMENT))'\\n 'STD(previous_app.AMT_GOODS_PRICE)' 'MIN(bureau.COUNT(bureau_balance))'\\n 'MAX(bureau.AMT_CREDIT_SUM_OVERDUE)'\\n 'SUM(previous_app.STD(installments.DAYS_INSTALMENT))'\\n 'MEAN(previous_app.SUM(cash.CNT_INSTALMENT_FUTURE))' 'APARTMENTS_MEDI'\\n 'SUM(previous_app.DAYS_FIRST_DUE)'\\n 'MIN(previous_app.SUM(installments.AMT_PAYMENT))'\\n 'MAX(previous_app.STD(installments.NUM_INSTALMENT_NUMBER))'\\n 'MAX(previous_app.STD(installments.DAYS_INSTALMENT))'\\n 'MAX(previous_app.MEAN(installments.NUM_INSTALMENT_VERSION))'\\n 'MAX(previous_app.SKEW(installments.AMT_INSTALMENT))' 'LANDAREA_AVG'\\n 'STD(previous_app.AMT_APPLICATION)' 'MEAN(cash.SK_DPD_DEF)'\\n 'STD(previous_app.COUNT(installments))' 'STD(bureau.AMT_ANNUITY)'\\n 'SUM(previous_app.STD(installments.DAYS_ENTRY_PAYMENT))'\\n 'STD(previous_app.MAX(cash.MONTHS_BALANCE))'\\n 'SKEW(previous_app.MIN(installments.AMT_INSTALMENT))'\\n 'MEAN(previous_app.MAX(installments.AMT_INSTALMENT))'\\n 'SKEW(previous_app.SUM(installments.NUM_INSTALMENT_NUMBER))'\\n 'MEAN(previous_app.SUM(cash.SK_DPD_DEF))'\\n 'STD(installments.AMT_INSTALMENT)'\\n 'MEAN(previous_app.MAX(installments.DAYS_ENTRY_PAYMENT))'\\n 'MIN(previous_app.STD(installments.NUM_INSTALMENT_NUMBER))'\\n 'SKEW(previous_app.STD(installments.AMT_PAYMENT))'\\n 'STD(previous_app.SUM(cash.CNT_INSTALMENT))'\\n 'STD(previous_app.DAYS_LAST_DUE_1ST_VERSION)'\\n 'SUM(previous_app.STD(credit.CNT_DRAWINGS_ATM_CURRENT))'\\n 'MODE(previous_app.NAME_YIELD_GROUP)'\\n 'STD(bureau.MEAN(bureau_balance.MONTHS_BALANCE))'\\n 'MEAN(previous_app.MEAN(credit.CNT_DRAWINGS_ATM_CURRENT))'\\n 'ENTRANCES_AVG' 'NAME_INCOME_TYPE'\\n 'STD(previous_app.MIN(cash.MONTHS_BALANCE))'\\n 'MAX(previous_app.SUM(installments.DAYS_ENTRY_PAYMENT))'\\n 'MEAN(previous_app.MIN(cash.MONTHS_BALANCE))'\\n 'MEAN(previous_app.STD(installments.DAYS_ENTRY_PAYMENT))'\\n 'MODE(previous_app.WEEKDAY_APPR_PROCESS_START)'\\n 'SUM(previous_app.MEAN(installments.AMT_INSTALMENT))'\\n 'MAX(previous_app.STD(installments.AMT_INSTALMENT))'\\n 'SKEW(previous_app.SUM(installments.AMT_PAYMENT))' 'NAME_HOUSING_TYPE'\\n 'SKEW(credit.AMT_DRAWINGS_ATM_CURRENT)'\\n 'MEAN(installments.DAYS_ENTRY_PAYMENT)' 'LIVINGAREA_AVG'\\n 'MEAN(previous_app.MEAN(installments.AMT_INSTALMENT))'\\n 'SUM(previous_app.STD(installments.NUM_INSTALMENT_NUMBER))'\\n 'MIN(previous_app.STD(credit.CNT_DRAWINGS_CURRENT))'\\n 'MAX(installments.SK_ID_CURR)' 'MEAN(credit.CNT_DRAWINGS_CURRENT)'\\n 'MIN(previous_app.MEAN(credit.CNT_DRAWINGS_ATM_CURRENT))'\\n 'MEAN(previous_app.MAX(cash.MONTHS_BALANCE))'\\n 'STD(previous_app.MAX(installments.NUM_INSTALMENT_NUMBER))'\\n 'STD(previous_app.MEAN(installments.AMT_PAYMENT))'\\n 'MEAN(bureau.MEAN(bureau_balance.MONTHS_BALANCE))'\\n 'MAX(previous_app.MEAN(installments.DAYS_INSTALMENT))' 'YEARS_BUILD_MODE'\\n 'MEAN(previous_app.MEAN(cash.CNT_INSTALMENT))'\\n 'MEAN(previous_app.MEAN(installments.DAYS_ENTRY_PAYMENT))'\\n 'APARTMENTS_AVG' 'SUM(previous_app.STD(credit.CNT_DRAWINGS_CURRENT))'\\n 'MEAN(previous_app.MAX(installments.NUM_INSTALMENT_NUMBER))'\\n 'SUM(previous_app.MEAN(installments.NUM_INSTALMENT_NUMBER))'] not in index\"",
     "output_type": "error",
     "traceback": [
      "\u001b[0;31m---------------------------------------------------------------------------\u001b[0m",
      "\u001b[0;31mKeyError\u001b[0m                                  Traceback (most recent call last)",
      "\u001b[0;32m<ipython-input-10-83190c80537f>\u001b[0m in \u001b[0;36m<module>\u001b[0;34m()\u001b[0m\n\u001b[0;32m----> 1\u001b[0;31m \u001b[0mX_selected_features\u001b[0m \u001b[0;34m=\u001b[0m \u001b[0mX\u001b[0m\u001b[0;34m[\u001b[0m\u001b[0mselected_features\u001b[0m\u001b[0;34m]\u001b[0m\u001b[0;34m\u001b[0m\u001b[0m\n\u001b[0m",
      "\u001b[0;32m~/anaconda3/lib/python3.6/site-packages/pandas/core/frame.py\u001b[0m in \u001b[0;36m__getitem__\u001b[0;34m(self, key)\u001b[0m\n\u001b[1;32m   2680\u001b[0m         \u001b[0;32mif\u001b[0m \u001b[0misinstance\u001b[0m\u001b[0;34m(\u001b[0m\u001b[0mkey\u001b[0m\u001b[0;34m,\u001b[0m \u001b[0;34m(\u001b[0m\u001b[0mSeries\u001b[0m\u001b[0;34m,\u001b[0m \u001b[0mnp\u001b[0m\u001b[0;34m.\u001b[0m\u001b[0mndarray\u001b[0m\u001b[0;34m,\u001b[0m \u001b[0mIndex\u001b[0m\u001b[0;34m,\u001b[0m \u001b[0mlist\u001b[0m\u001b[0;34m)\u001b[0m\u001b[0;34m)\u001b[0m\u001b[0;34m:\u001b[0m\u001b[0;34m\u001b[0m\u001b[0m\n\u001b[1;32m   2681\u001b[0m             \u001b[0;31m# either boolean or fancy integer index\u001b[0m\u001b[0;34m\u001b[0m\u001b[0;34m\u001b[0m\u001b[0m\n\u001b[0;32m-> 2682\u001b[0;31m             \u001b[0;32mreturn\u001b[0m \u001b[0mself\u001b[0m\u001b[0;34m.\u001b[0m\u001b[0m_getitem_array\u001b[0m\u001b[0;34m(\u001b[0m\u001b[0mkey\u001b[0m\u001b[0;34m)\u001b[0m\u001b[0;34m\u001b[0m\u001b[0m\n\u001b[0m\u001b[1;32m   2683\u001b[0m         \u001b[0;32melif\u001b[0m \u001b[0misinstance\u001b[0m\u001b[0;34m(\u001b[0m\u001b[0mkey\u001b[0m\u001b[0;34m,\u001b[0m \u001b[0mDataFrame\u001b[0m\u001b[0;34m)\u001b[0m\u001b[0;34m:\u001b[0m\u001b[0;34m\u001b[0m\u001b[0m\n\u001b[1;32m   2684\u001b[0m             \u001b[0;32mreturn\u001b[0m \u001b[0mself\u001b[0m\u001b[0;34m.\u001b[0m\u001b[0m_getitem_frame\u001b[0m\u001b[0;34m(\u001b[0m\u001b[0mkey\u001b[0m\u001b[0;34m)\u001b[0m\u001b[0;34m\u001b[0m\u001b[0m\n",
      "\u001b[0;32m~/anaconda3/lib/python3.6/site-packages/pandas/core/frame.py\u001b[0m in \u001b[0;36m_getitem_array\u001b[0;34m(self, key)\u001b[0m\n\u001b[1;32m   2724\u001b[0m             \u001b[0;32mreturn\u001b[0m \u001b[0mself\u001b[0m\u001b[0;34m.\u001b[0m\u001b[0m_take\u001b[0m\u001b[0;34m(\u001b[0m\u001b[0mindexer\u001b[0m\u001b[0;34m,\u001b[0m \u001b[0maxis\u001b[0m\u001b[0;34m=\u001b[0m\u001b[0;36m0\u001b[0m\u001b[0;34m)\u001b[0m\u001b[0;34m\u001b[0m\u001b[0m\n\u001b[1;32m   2725\u001b[0m         \u001b[0;32melse\u001b[0m\u001b[0;34m:\u001b[0m\u001b[0;34m\u001b[0m\u001b[0m\n\u001b[0;32m-> 2726\u001b[0;31m             \u001b[0mindexer\u001b[0m \u001b[0;34m=\u001b[0m \u001b[0mself\u001b[0m\u001b[0;34m.\u001b[0m\u001b[0mloc\u001b[0m\u001b[0;34m.\u001b[0m\u001b[0m_convert_to_indexer\u001b[0m\u001b[0;34m(\u001b[0m\u001b[0mkey\u001b[0m\u001b[0;34m,\u001b[0m \u001b[0maxis\u001b[0m\u001b[0;34m=\u001b[0m\u001b[0;36m1\u001b[0m\u001b[0;34m)\u001b[0m\u001b[0;34m\u001b[0m\u001b[0m\n\u001b[0m\u001b[1;32m   2727\u001b[0m             \u001b[0;32mreturn\u001b[0m \u001b[0mself\u001b[0m\u001b[0;34m.\u001b[0m\u001b[0m_take\u001b[0m\u001b[0;34m(\u001b[0m\u001b[0mindexer\u001b[0m\u001b[0;34m,\u001b[0m \u001b[0maxis\u001b[0m\u001b[0;34m=\u001b[0m\u001b[0;36m1\u001b[0m\u001b[0;34m)\u001b[0m\u001b[0;34m\u001b[0m\u001b[0m\n\u001b[1;32m   2728\u001b[0m \u001b[0;34m\u001b[0m\u001b[0m\n",
      "\u001b[0;32m~/anaconda3/lib/python3.6/site-packages/pandas/core/indexing.py\u001b[0m in \u001b[0;36m_convert_to_indexer\u001b[0;34m(self, obj, axis, is_setter)\u001b[0m\n\u001b[1;32m   1325\u001b[0m                 \u001b[0;32mif\u001b[0m \u001b[0mmask\u001b[0m\u001b[0;34m.\u001b[0m\u001b[0many\u001b[0m\u001b[0;34m(\u001b[0m\u001b[0;34m)\u001b[0m\u001b[0;34m:\u001b[0m\u001b[0;34m\u001b[0m\u001b[0m\n\u001b[1;32m   1326\u001b[0m                     raise KeyError('{mask} not in index'\n\u001b[0;32m-> 1327\u001b[0;31m                                    .format(mask=objarr[mask]))\n\u001b[0m\u001b[1;32m   1328\u001b[0m \u001b[0;34m\u001b[0m\u001b[0m\n\u001b[1;32m   1329\u001b[0m                 \u001b[0;32mreturn\u001b[0m \u001b[0mcom\u001b[0m\u001b[0;34m.\u001b[0m\u001b[0m_values_from_object\u001b[0m\u001b[0;34m(\u001b[0m\u001b[0mindexer\u001b[0m\u001b[0;34m)\u001b[0m\u001b[0;34m\u001b[0m\u001b[0m\n",
      "\u001b[0;31mKeyError\u001b[0m: \"['ORGANIZATION_TYPE' 'DAYS_EMPLOYED' 'AMT_GOODS_PRICE' 'OCCUPATION_TYPE'\\n 'MODE(previous_app.PRODUCT_COMBINATION)' 'CODE_GENDER'\\n 'MIN(installments.AMT_PAYMENT)'\\n 'MEAN(previous_app.MEAN(cash.CNT_INSTALMENT_FUTURE))'\\n 'SUM(bureau.AMT_CREDIT_SUM_DEBT)' 'MEAN(bureau.AMT_CREDIT_MAX_OVERDUE)'\\n 'STD(previous_app.CNT_PAYMENT)' 'MAX(cash.SK_ID_CURR)'\\n 'NAME_FAMILY_STATUS' 'STD(bureau.DAYS_CREDIT_ENDDATE)' 'TOTALAREA_MODE'\\n 'MAX(previous_app.MEAN(cash.CNT_INSTALMENT_FUTURE))'\\n 'SUM(previous_app.MIN(cash.CNT_INSTALMENT_FUTURE))'\\n 'MAX(previous_app.SELLERPLACE_AREA)'\\n 'STD(previous_app.MIN(cash.CNT_INSTALMENT_FUTURE))' 'NAME_EDUCATION_TYPE'\\n 'STD(bureau.DAYS_CREDIT_UPDATE)' 'MAX(bureau.AMT_CREDIT_MAX_OVERDUE)'\\n 'SKEW(previous_app.COUNT(installments))'\\n 'MODE(previous_app.NAME_GOODS_CATEGORY)' 'REGION_RATING_CLIENT_W_CITY'\\n 'MEAN(previous_app.SKEW(installments.AMT_PAYMENT))'\\n 'MIN(previous_app.MAX(installments.AMT_INSTALMENT))'\\n 'MIN(previous_app.SUM(installments.SK_ID_CURR))'\\n 'STD(previous_app.SKEW(installments.DAYS_ENTRY_PAYMENT))'\\n 'SKEW(previous_app.AMT_APPLICATION)'\\n 'SUM(previous_app.SKEW(installments.AMT_PAYMENT))'\\n 'MAX(previous_app.AMT_DOWN_PAYMENT)' 'STD(bureau.AMT_CREDIT_SUM_DEBT)'\\n 'MIN(previous_app.SUM(cash.SK_ID_CURR))'\\n 'MEAN(previous_app.SUM(cash.SK_ID_CURR))'\\n 'SUM(previous_app.MIN(installments.AMT_INSTALMENT))'\\n 'MEAN(cash.CNT_INSTALMENT_FUTURE)'\\n 'MAX(previous_app.MIN(installments.AMT_PAYMENT))'\\n 'STD(bureau.AMT_CREDIT_SUM)'\\n 'MEAN(previous_app.MIN(installments.AMT_INSTALMENT))'\\n 'SUM(previous_app.HOUR_APPR_PROCESS_START)'\\n 'MAX(previous_app.AMT_CREDIT)' 'SUM(cash.SK_ID_CURR)'\\n 'STD(previous_app.AMT_ANNUITY)' 'SUM(installments.SK_ID_CURR)'\\n 'APARTMENTS_MODE' 'SUM(bureau.DAYS_ENDDATE_FACT)'\\n 'SUM(previous_app.DAYS_LAST_DUE_1ST_VERSION)'\\n 'MAX(installments.DAYS_INSTALMENT)'\\n 'MAX(previous_app.SUM(installments.AMT_PAYMENT))'\\n 'STD(previous_app.SKEW(installments.NUM_INSTALMENT_NUMBER))'\\n 'SKEW(installments.DAYS_INSTALMENT)' 'SUM(bureau.DAYS_CREDIT_UPDATE)'\\n 'SUM(previous_app.STD(cash.CNT_INSTALMENT))'\\n 'STD(previous_app.DAYS_TERMINATION)'\\n 'MEAN(previous_app.SUM(installments.SK_ID_CURR))'\\n 'STD(previous_app.SUM(installments.AMT_PAYMENT))'\\n 'STD(cash.CNT_INSTALMENT_FUTURE)'\\n 'MAX(previous_app.SUM(cash.SK_ID_CURR))'\\n 'MIN(previous_app.STD(installments.AMT_INSTALMENT))'\\n 'SUM(previous_app.MAX(installments.SK_ID_CURR))'\\n 'MIN(previous_app.MEAN(installments.AMT_INSTALMENT))'\\n 'NAME_CONTRACT_TYPE' 'YEARS_BEGINEXPLUATATION_MODE'\\n 'SKEW(installments.AMT_INSTALMENT)'\\n 'SUM(previous_app.MEAN(installments.AMT_PAYMENT))'\\n 'SKEW(previous_app.AMT_CREDIT)'\\n 'MIN(previous_app.MAX(installments.AMT_PAYMENT))'\\n 'MAX(previous_app.STD(installments.NUM_INSTALMENT_VERSION))'\\n 'STD(previous_app.SKEW(installments.DAYS_INSTALMENT))'\\n 'SUM(previous_app.MEAN(installments.NUM_INSTALMENT_VERSION))'\\n 'SKEW(bureau.STD(bureau_balance.MONTHS_BALANCE))'\\n 'STD(previous_app.SUM(installments.AMT_INSTALMENT))'\\n 'SUM(previous_app.STD(installments.AMT_PAYMENT))' 'BASEMENTAREA_MODE'\\n 'MODE(previous_app.CODE_REJECT_REASON)' 'LIVINGAREA_MODE'\\n 'MIN(previous_app.SELLERPLACE_AREA)' 'SUM(bureau_balance.MONTHS_BALANCE)'\\n 'MAX(previous_app.STD(installments.AMT_PAYMENT))'\\n 'MEAN(previous_app.SUM(installments.AMT_INSTALMENT))'\\n 'MAX(bureau.AMT_CREDIT_SUM_LIMIT)' 'MEAN(previous_app.AMT_CREDIT)'\\n 'MAX(previous_app.MEAN(credit.CNT_DRAWINGS_ATM_CURRENT))'\\n 'SUM(previous_app.AMT_ANNUITY)' 'LANDAREA_MEDI'\\n 'MEAN(previous_app.AMT_APPLICATION)'\\n 'STD(previous_app.SUM(cash.SK_ID_CURR))'\\n 'MAX(previous_app.MEAN(installments.AMT_PAYMENT))'\\n 'STD(previous_app.SKEW(installments.AMT_INSTALMENT))'\\n 'MEAN(previous_app.MEAN(installments.NUM_INSTALMENT_VERSION))'\\n 'MAX(previous_app.MIN(installments.AMT_INSTALMENT))'\\n 'STD(installments.DAYS_INSTALMENT)' 'NONLIVINGAREA_AVG'\\n 'MAX(bureau.AMT_ANNUITY)'\\n 'STD(previous_app.MIN(installments.AMT_INSTALMENT))'\\n 'MIN(previous_app.AMT_CREDIT)' 'MODE(previous_app.NAME_TYPE_SUITE)'\\n 'STD(previous_app.SUM(installments.DAYS_INSTALMENT))'\\n 'SUM(previous_app.MEAN(cash.CNT_INSTALMENT_FUTURE))'\\n 'MODE(previous_app.NAME_CONTRACT_STATUS)'\\n 'MEAN(installments.AMT_INSTALMENT)'\\n 'STD(previous_app.MEAN(cash.CNT_INSTALMENT_FUTURE))'\\n 'MAX(previous_app.MEAN(installments.DAYS_ENTRY_PAYMENT))'\\n 'MODE(previous_app.CHANNEL_TYPE)' 'MAX(previous_app.SKEW(cash.SK_DPD))'\\n 'MAX(previous_app.SUM(installments.SK_ID_CURR))'\\n 'MEAN(previous_app.STD(cash.SK_DPD_DEF))'\\n 'MEAN(previous_app.DAYS_TERMINATION)'\\n 'MEAN(previous_app.STD(installments.AMT_PAYMENT))'\\n 'SUM(previous_app.DAYS_TERMINATION)' 'SUM(cash.CNT_INSTALMENT)'\\n 'SUM(previous_app.MIN(cash.SK_ID_CURR))' 'MEAN(cash.MONTHS_BALANCE)'\\n 'MEAN(previous_app.STD(installments.NUM_INSTALMENT_VERSION))'\\n 'STD(bureau_balance.MONTHS_BALANCE)' 'MAX(previous_app.AMT_APPLICATION)'\\n 'STD(installments.DAYS_ENTRY_PAYMENT)'\\n 'MAX(previous_app.STD(installments.DAYS_ENTRY_PAYMENT))'\\n 'NONLIVINGAREA_MEDI' 'SUM(installments.AMT_INSTALMENT)'\\n 'MAX(previous_app.SUM(cash.CNT_INSTALMENT_FUTURE))'\\n 'SUM(previous_app.SKEW(installments.NUM_INSTALMENT_NUMBER))'\\n 'STD(previous_app.MIN(installments.AMT_PAYMENT))' 'COMMONAREA_MODE'\\n 'STD(installments.AMT_PAYMENT)'\\n 'MIN(previous_app.SUM(cash.CNT_INSTALMENT))'\\n 'MEAN(installments.NUM_INSTALMENT_NUMBER)'\\n 'STD(bureau.MIN(bureau_balance.MONTHS_BALANCE))'\\n 'SUM(previous_app.AMT_CREDIT)'\\n 'SKEW(previous_app.MEAN(installments.AMT_PAYMENT))'\\n 'MIN(previous_app.SUM(installments.DAYS_ENTRY_PAYMENT))'\\n 'WEEKDAY_APPR_PROCESS_START' 'SUM(previous_app.STD(cash.MONTHS_BALANCE))'\\n 'MAX(credit.SK_ID_CURR)'\\n 'SKEW(previous_app.MEAN(installments.AMT_INSTALMENT))'\\n 'MAX(previous_app.MEAN(cash.MONTHS_BALANCE))'\\n 'STD(previous_app.MEAN(installments.AMT_INSTALMENT))'\\n 'MAX(previous_app.DAYS_FIRST_DUE)'\\n 'MAX(previous_app.SUM(installments.NUM_INSTALMENT_VERSION))'\\n 'STD(previous_app.MEAN(installments.NUM_INSTALMENT_VERSION))'\\n 'SUM(previous_app.STD(cash.CNT_INSTALMENT_FUTURE))'\\n 'STD(previous_app.SKEW(installments.AMT_PAYMENT))'\\n 'STD(previous_app.AMT_GOODS_PRICE)' 'MIN(bureau.COUNT(bureau_balance))'\\n 'MAX(bureau.AMT_CREDIT_SUM_OVERDUE)'\\n 'SUM(previous_app.STD(installments.DAYS_INSTALMENT))'\\n 'MEAN(previous_app.SUM(cash.CNT_INSTALMENT_FUTURE))' 'APARTMENTS_MEDI'\\n 'SUM(previous_app.DAYS_FIRST_DUE)'\\n 'MIN(previous_app.SUM(installments.AMT_PAYMENT))'\\n 'MAX(previous_app.STD(installments.NUM_INSTALMENT_NUMBER))'\\n 'MAX(previous_app.STD(installments.DAYS_INSTALMENT))'\\n 'MAX(previous_app.MEAN(installments.NUM_INSTALMENT_VERSION))'\\n 'MAX(previous_app.SKEW(installments.AMT_INSTALMENT))' 'LANDAREA_AVG'\\n 'STD(previous_app.AMT_APPLICATION)' 'MEAN(cash.SK_DPD_DEF)'\\n 'STD(previous_app.COUNT(installments))' 'STD(bureau.AMT_ANNUITY)'\\n 'SUM(previous_app.STD(installments.DAYS_ENTRY_PAYMENT))'\\n 'STD(previous_app.MAX(cash.MONTHS_BALANCE))'\\n 'SKEW(previous_app.MIN(installments.AMT_INSTALMENT))'\\n 'MEAN(previous_app.MAX(installments.AMT_INSTALMENT))'\\n 'SKEW(previous_app.SUM(installments.NUM_INSTALMENT_NUMBER))'\\n 'MEAN(previous_app.SUM(cash.SK_DPD_DEF))'\\n 'STD(installments.AMT_INSTALMENT)'\\n 'MEAN(previous_app.MAX(installments.DAYS_ENTRY_PAYMENT))'\\n 'MIN(previous_app.STD(installments.NUM_INSTALMENT_NUMBER))'\\n 'SKEW(previous_app.STD(installments.AMT_PAYMENT))'\\n 'STD(previous_app.SUM(cash.CNT_INSTALMENT))'\\n 'STD(previous_app.DAYS_LAST_DUE_1ST_VERSION)'\\n 'SUM(previous_app.STD(credit.CNT_DRAWINGS_ATM_CURRENT))'\\n 'MODE(previous_app.NAME_YIELD_GROUP)'\\n 'STD(bureau.MEAN(bureau_balance.MONTHS_BALANCE))'\\n 'MEAN(previous_app.MEAN(credit.CNT_DRAWINGS_ATM_CURRENT))'\\n 'ENTRANCES_AVG' 'NAME_INCOME_TYPE'\\n 'STD(previous_app.MIN(cash.MONTHS_BALANCE))'\\n 'MAX(previous_app.SUM(installments.DAYS_ENTRY_PAYMENT))'\\n 'MEAN(previous_app.MIN(cash.MONTHS_BALANCE))'\\n 'MEAN(previous_app.STD(installments.DAYS_ENTRY_PAYMENT))'\\n 'MODE(previous_app.WEEKDAY_APPR_PROCESS_START)'\\n 'SUM(previous_app.MEAN(installments.AMT_INSTALMENT))'\\n 'MAX(previous_app.STD(installments.AMT_INSTALMENT))'\\n 'SKEW(previous_app.SUM(installments.AMT_PAYMENT))' 'NAME_HOUSING_TYPE'\\n 'SKEW(credit.AMT_DRAWINGS_ATM_CURRENT)'\\n 'MEAN(installments.DAYS_ENTRY_PAYMENT)' 'LIVINGAREA_AVG'\\n 'MEAN(previous_app.MEAN(installments.AMT_INSTALMENT))'\\n 'SUM(previous_app.STD(installments.NUM_INSTALMENT_NUMBER))'\\n 'MIN(previous_app.STD(credit.CNT_DRAWINGS_CURRENT))'\\n 'MAX(installments.SK_ID_CURR)' 'MEAN(credit.CNT_DRAWINGS_CURRENT)'\\n 'MIN(previous_app.MEAN(credit.CNT_DRAWINGS_ATM_CURRENT))'\\n 'MEAN(previous_app.MAX(cash.MONTHS_BALANCE))'\\n 'STD(previous_app.MAX(installments.NUM_INSTALMENT_NUMBER))'\\n 'STD(previous_app.MEAN(installments.AMT_PAYMENT))'\\n 'MEAN(bureau.MEAN(bureau_balance.MONTHS_BALANCE))'\\n 'MAX(previous_app.MEAN(installments.DAYS_INSTALMENT))' 'YEARS_BUILD_MODE'\\n 'MEAN(previous_app.MEAN(cash.CNT_INSTALMENT))'\\n 'MEAN(previous_app.MEAN(installments.DAYS_ENTRY_PAYMENT))'\\n 'APARTMENTS_AVG' 'SUM(previous_app.STD(credit.CNT_DRAWINGS_CURRENT))'\\n 'MEAN(previous_app.MAX(installments.NUM_INSTALMENT_NUMBER))'\\n 'SUM(previous_app.MEAN(installments.NUM_INSTALMENT_NUMBER))'] not in index\""
     ]
    }
   ],
   "source": [
    "X_selected_features = X[selected_features]"
   ]
  },
  {
   "cell_type": "code",
   "execution_count": null,
   "metadata": {},
   "outputs": [],
   "source": [
    "X_selected_features.to_csv('./preprocessed_data/top_features_v5.csv', index = False)"
   ]
  },
  {
   "cell_type": "code",
   "execution_count": null,
   "metadata": {},
   "outputs": [],
   "source": [
    "del X,X_selected_features,test,train\n",
    "gc.collect()"
   ]
  },
  {
   "cell_type": "code",
   "execution_count": null,
   "metadata": {},
   "outputs": [],
   "source": [
    "# submission.to_csv('./model_performance/v5_pred_0.784.csv', index = False)"
   ]
  },
  {
   "cell_type": "markdown",
   "metadata": {},
   "source": [
    "### Merge v4 and important features data"
   ]
  },
  {
   "cell_type": "code",
   "execution_count": null,
   "metadata": {},
   "outputs": [],
   "source": [
    "X_selected_features = pd.read_csv('./preprocessed_data/top_features_v5.csv')\n",
    "\n",
    "X = pd.read_csv('./preprocessed_data/all_data_v4.csv')"
   ]
  },
  {
   "cell_type": "code",
   "execution_count": null,
   "metadata": {},
   "outputs": [],
   "source": [
    "X = X.merge(X_selected_features,\n",
    "            left_on=['SK_ID_CURR'],\n",
    "            right_on=['SK_ID_CURR'],\n",
    "            how='left',\n",
    "            validate='one_to_one')"
   ]
  },
  {
   "cell_type": "code",
   "execution_count": null,
   "metadata": {},
   "outputs": [],
   "source": [
    "X.to_csv('./preprocessed_data/all_data_v5.csv', index = False)"
   ]
  },
  {
   "cell_type": "code",
   "execution_count": null,
   "metadata": {},
   "outputs": [],
   "source": [
    "from helper import *\n",
    "\n",
    "train = X[X['TARGET'].notnull()]\n",
    "test = X[X['TARGET'].isnull()]\n",
    "\n",
    "submission, fi, metrics, valid_pd = lgb_model(train, test)"
   ]
  },
  {
   "cell_type": "code",
   "execution_count": null,
   "metadata": {},
   "outputs": [],
   "source": [
    "metrics"
   ]
  },
  {
   "cell_type": "code",
   "execution_count": null,
   "metadata": {},
   "outputs": [],
   "source": [
    "valid_pd.to_csv('./model_performance/valid_v5.csv', index = False)"
   ]
  },
  {
   "cell_type": "code",
   "execution_count": null,
   "metadata": {},
   "outputs": [],
   "source": [
    "submission.to_csv('./model_performance/v5_pred_{0:.4f}.csv'.format(metrics.iloc[5]['valid']), index = False)"
   ]
  }
 ],
 "metadata": {
  "kernelspec": {
   "display_name": "Python 3",
   "language": "python",
   "name": "python3"
  },
  "language_info": {
   "codemirror_mode": {
    "name": "ipython",
    "version": 3
   },
   "file_extension": ".py",
   "mimetype": "text/x-python",
   "name": "python",
   "nbconvert_exporter": "python",
   "pygments_lexer": "ipython3",
   "version": "3.6.5"
  }
 },
 "nbformat": 4,
 "nbformat_minor": 2
}
