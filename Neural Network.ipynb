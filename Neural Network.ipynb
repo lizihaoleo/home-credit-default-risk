{
 "cells": [
  {
   "cell_type": "code",
   "execution_count": 1,
   "metadata": {},
   "outputs": [
    {
     "name": "stderr",
     "output_type": "stream",
     "text": [
      "Using TensorFlow backend.\n"
     ]
    }
   ],
   "source": [
    "import numpy as np\n",
    "import tensorflow as tf\n",
    "from sklearn.metrics import roc_auc_score\n",
    "from sklearn.datasets import make_classification\n",
    "from keras.models import Sequential\n",
    "from keras.utils import np_utils\n",
    "from keras.callbacks import Callback, EarlyStopping\n",
    "from keras.layers import Dense, Activation\n",
    "from keras.layers import Dropout\n",
    "from keras import backend as K\n",
    "from keras.optimizers import SGD\n",
    "import pandas as pd\n",
    "import matplotlib.pyplot as plt\n",
    "%matplotlib inline"
   ]
  },
  {
   "cell_type": "code",
   "execution_count": 2,
   "metadata": {},
   "outputs": [],
   "source": [
    "# define roc_callback, inspired by https://github.com/keras-team/keras/issues/6050#issuecomment-329996505\n",
    "def auc_roc(y_true, y_pred):\n",
    "    # any tensorflow metric\n",
    "    value, update_op = tf.contrib.metrics.streaming_auc(y_pred, y_true)\n",
    "\n",
    "    # find all variables created for this metric\n",
    "    metric_vars = [i for i in tf.local_variables() if 'auc_roc' in i.name.split('/')[1]]\n",
    "\n",
    "    # Add metric variables to GLOBAL_VARIABLES collection.\n",
    "    # They will be initialized for new session.\n",
    "    for v in metric_vars:\n",
    "        tf.add_to_collection(tf.GraphKeys.GLOBAL_VARIABLES, v)\n",
    "\n",
    "    # force to update metric values\n",
    "    with tf.control_dependencies([update_op]):\n",
    "        value = tf.identity(value)\n",
    "        return value"
   ]
  },
  {
   "cell_type": "code",
   "execution_count": 3,
   "metadata": {},
   "outputs": [
    {
     "name": "stderr",
     "output_type": "stream",
     "text": [
      "/home/lizihaoleo/anaconda3/lib/python3.6/site-packages/sklearn/cross_validation.py:41: DeprecationWarning: This module was deprecated in version 0.18 in favor of the model_selection module into which all the refactored classes and functions are moved. Also note that the interface of the new CV iterators are different from that of this module. This module will be removed in 0.20.\n",
      "  \"This module will be removed in 0.20.\", DeprecationWarning)\n"
     ]
    }
   ],
   "source": [
    "from sklearn.cross_validation import train_test_split\n",
    "\n",
    "X = pd.read_csv('./preprocessed_data/all_data_v4_mix_v5.csv')\n",
    "\n",
    "features = X[X['TARGET'].notnull()]\n",
    "test_features = X[X['TARGET'].isnull()]\n",
    "\n",
    "# Extract the ids\n",
    "train_ids = features['SK_ID_CURR']\n",
    "test_ids = test_features['SK_ID_CURR']\n",
    "\n",
    "# Extract the labels for training\n",
    "labels = features['TARGET']\n",
    "\n",
    "# Remove the ids and target\n",
    "features = features.drop(columns = ['SK_ID_CURR', 'TARGET'])\n",
    "test_features = test_features.drop(columns = ['SK_ID_CURR'])\n",
    "\n",
    "features = pd.get_dummies(features)\n",
    "test_features = pd.get_dummies(test_features)\n",
    "\n",
    "# Align the dataframes by the columns\n",
    "features, test_features = features.align(test_features, join = 'inner', axis = 1)\n"
   ]
  },
  {
   "cell_type": "code",
   "execution_count": 4,
   "metadata": {},
   "outputs": [
    {
     "name": "stdout",
     "output_type": "stream",
     "text": [
      "(307511, 1155) (48744, 1155)\n"
     ]
    }
   ],
   "source": [
    "print(features.shape, test_features.shape)"
   ]
  },
  {
   "cell_type": "code",
   "execution_count": 5,
   "metadata": {},
   "outputs": [],
   "source": [
    "X_train, X_test, y_train, y_test = train_test_split(features, labels, test_size=0.3, random_state=0)"
   ]
  },
  {
   "cell_type": "code",
   "execution_count": 6,
   "metadata": {},
   "outputs": [
    {
     "name": "stdout",
     "output_type": "stream",
     "text": [
      "(215257, 1155) (92254, 1155) (215257,) (92254,)\n"
     ]
    }
   ],
   "source": [
    "print(X_train.shape, X_test.shape, y_train.shape, y_test.shape)"
   ]
  },
  {
   "cell_type": "code",
   "execution_count": 7,
   "metadata": {},
   "outputs": [],
   "source": [
    "import os\n",
    "from datetime import datetime\n",
    "from keras.callbacks import ModelCheckpoint, LearningRateScheduler, TensorBoard, EarlyStopping\n",
    "\n",
    "def train_nn(X_train,X_test,y_train,y_test,metric=auc_roc):\n",
    "    input_dim = X_train.shape[1]\n",
    "\n",
    "    model = Sequential()\n",
    "    model.add(Dense(256, input_dim=input_dim, activation='relu'))\n",
    "    model.add(Dropout(0.5))\n",
    "    model.add(Dense(128, activation='relu'))\n",
    "    model.add(Dropout(0.5))\n",
    "    model.add(Dense(1, activation='sigmoid'))\n",
    "    model.compile(loss='binary_crossentropy',\n",
    "                  optimizer='rmsprop',\n",
    "                  metrics=['accuracy',metric])\n",
    "    \n",
    "    log_name = '/EP{epoch:02d}-LOSS{val_auc_roc:.4f}.h5'\n",
    "    log_dir = datetime.now().strftime('./nn_log/Final_model_%Y%m%d_%H%M')\n",
    "    if not os.path.exists(log_dir):\n",
    "        os.mkdir(log_dir)\n",
    "\n",
    "    es = EarlyStopping(monitor='auc_roc', patience=50)\n",
    "    mc = ModelCheckpoint(log_dir + log_name, monitor='auc_roc', save_best_only=True)\n",
    "    \n",
    "    model.fit(X_train, y_train, epochs=1500, batch_size=128,\n",
    "          validation_data= (X_test, y_test),callbacks = [es, mc])\n",
    "    print(\"The model save in dir {}\".format(log_dir))"
   ]
  },
  {
   "cell_type": "code",
   "execution_count": null,
   "metadata": {},
   "outputs": [
    {
     "name": "stdout",
     "output_type": "stream",
     "text": [
      "WARNING:tensorflow:From <ipython-input-2-d689dba3be55>:4: streaming_auc (from tensorflow.contrib.metrics.python.ops.metric_ops) is deprecated and will be removed in a future version.\n",
      "Instructions for updating:\n",
      "Please switch to tf.metrics.auc. Note that the order of the labels and predictions arguments has been switched.\n",
      "Train on 215257 samples, validate on 92254 samples\n",
      "Epoch 1/1500\n",
      "215257/215257 [==============================] - 26s 121us/step - loss: 0.4513 - acc: 0.9188 - auc_roc: 0.4996 - val_loss: 0.3063 - val_acc: 0.9204 - val_auc_roc: 0.5010\n",
      "Epoch 2/1500\n",
      "215257/215257 [==============================] - 21s 97us/step - loss: 0.2865 - acc: 0.9188 - auc_roc: 0.5014 - val_loss: 0.2778 - val_acc: 0.9204 - val_auc_roc: 0.4999\n",
      "Epoch 3/1500\n",
      "215257/215257 [==============================] - 21s 97us/step - loss: 0.2818 - acc: 0.9188 - auc_roc: 0.4996 - val_loss: 0.2777 - val_acc: 0.9204 - val_auc_roc: 0.4996\n",
      "Epoch 4/1500\n",
      "215257/215257 [==============================] - 21s 96us/step - loss: 0.2818 - acc: 0.9188 - auc_roc: 0.4995 - val_loss: 0.2777 - val_acc: 0.9204 - val_auc_roc: 0.4993\n",
      "Epoch 5/1500\n",
      "215257/215257 [==============================] - 21s 98us/step - loss: 0.2818 - acc: 0.9188 - auc_roc: 0.4993 - val_loss: 0.2777 - val_acc: 0.9204 - val_auc_roc: 0.4992\n",
      "Epoch 6/1500\n",
      "215257/215257 [==============================] - 21s 98us/step - loss: 0.2818 - acc: 0.9188 - auc_roc: 0.4992 - val_loss: 0.2777 - val_acc: 0.9204 - val_auc_roc: 0.4997\n",
      "Epoch 7/1500\n",
      "215257/215257 [==============================] - 21s 98us/step - loss: 0.2818 - acc: 0.9188 - auc_roc: 0.4997 - val_loss: 0.2777 - val_acc: 0.9204 - val_auc_roc: 0.4996\n",
      "Epoch 8/1500\n",
      "215257/215257 [==============================] - 21s 98us/step - loss: 0.2818 - acc: 0.9188 - auc_roc: 0.4996 - val_loss: 0.2777 - val_acc: 0.9204 - val_auc_roc: 0.4997\n",
      "Epoch 9/1500\n",
      "215257/215257 [==============================] - 21s 99us/step - loss: 0.2818 - acc: 0.9188 - auc_roc: 0.4998 - val_loss: 0.2777 - val_acc: 0.9204 - val_auc_roc: 0.4998\n",
      "Epoch 10/1500\n",
      "215257/215257 [==============================] - 21s 99us/step - loss: 0.2818 - acc: 0.9188 - auc_roc: 0.4999 - val_loss: 0.2777 - val_acc: 0.9204 - val_auc_roc: 0.4999\n",
      "Epoch 11/1500\n",
      "215257/215257 [==============================] - 22s 103us/step - loss: 0.2818 - acc: 0.9188 - auc_roc: 0.4999 - val_loss: 0.2777 - val_acc: 0.9204 - val_auc_roc: 0.4999\n",
      "Epoch 12/1500\n",
      "215257/215257 [==============================] - 21s 100us/step - loss: 0.2818 - acc: 0.9188 - auc_roc: 0.4998 - val_loss: 0.2777 - val_acc: 0.9204 - val_auc_roc: 0.5000\n",
      "Epoch 13/1500\n",
      "215257/215257 [==============================] - 22s 103us/step - loss: 0.2818 - acc: 0.9188 - auc_roc: 0.5000 - val_loss: 0.2777 - val_acc: 0.9204 - val_auc_roc: 0.4998\n",
      "Epoch 14/1500\n",
      "215257/215257 [==============================] - 21s 99us/step - loss: 0.2818 - acc: 0.9188 - auc_roc: 0.4999 - val_loss: 0.2777 - val_acc: 0.9204 - val_auc_roc: 0.4998\n",
      "Epoch 15/1500\n",
      "215257/215257 [==============================] - 22s 103us/step - loss: 0.2818 - acc: 0.9188 - auc_roc: 0.4997 - val_loss: 0.2777 - val_acc: 0.9204 - val_auc_roc: 0.4997\n",
      "Epoch 16/1500\n",
      "215257/215257 [==============================] - 22s 101us/step - loss: 0.2818 - acc: 0.9188 - auc_roc: 0.4997 - val_loss: 0.2777 - val_acc: 0.9204 - val_auc_roc: 0.4997\n",
      "Epoch 17/1500\n",
      "215257/215257 [==============================] - 22s 104us/step - loss: 0.2818 - acc: 0.9188 - auc_roc: 0.4997 - val_loss: 0.2777 - val_acc: 0.9204 - val_auc_roc: 0.4998\n",
      "Epoch 18/1500\n",
      "215257/215257 [==============================] - 21s 100us/step - loss: 0.2818 - acc: 0.9188 - auc_roc: 0.4998 - val_loss: 0.2777 - val_acc: 0.9204 - val_auc_roc: 0.4999\n",
      "Epoch 19/1500\n",
      "215257/215257 [==============================] - 22s 104us/step - loss: 0.2818 - acc: 0.9188 - auc_roc: 0.4998 - val_loss: 0.2777 - val_acc: 0.9204 - val_auc_roc: 0.4998\n",
      "Epoch 20/1500\n",
      "215257/215257 [==============================] - 22s 104us/step - loss: 0.2818 - acc: 0.9188 - auc_roc: 0.4998 - val_loss: 0.2777 - val_acc: 0.9204 - val_auc_roc: 0.4997\n",
      "Epoch 21/1500\n",
      "215257/215257 [==============================] - 22s 100us/step - loss: 0.2818 - acc: 0.9188 - auc_roc: 0.4997 - val_loss: 0.2777 - val_acc: 0.9204 - val_auc_roc: 0.4997\n",
      "Epoch 22/1500\n",
      "215257/215257 [==============================] - 22s 104us/step - loss: 0.2818 - acc: 0.9188 - auc_roc: 0.4997 - val_loss: 0.2778 - val_acc: 0.9204 - val_auc_roc: 0.4997\n",
      "Epoch 23/1500\n",
      "215257/215257 [==============================] - 22s 100us/step - loss: 0.2818 - acc: 0.9188 - auc_roc: 0.4997 - val_loss: 0.2777 - val_acc: 0.9204 - val_auc_roc: 0.4997\n",
      "Epoch 24/1500\n",
      "215257/215257 [==============================] - 22s 104us/step - loss: 0.2818 - acc: 0.9188 - auc_roc: 0.4997 - val_loss: 0.2777 - val_acc: 0.9204 - val_auc_roc: 0.4997\n",
      "Epoch 25/1500\n",
      "215257/215257 [==============================] - 22s 104us/step - loss: 0.2818 - acc: 0.9188 - auc_roc: 0.4997 - val_loss: 0.2777 - val_acc: 0.9204 - val_auc_roc: 0.4996\n",
      "Epoch 26/1500\n",
      "215257/215257 [==============================] - 22s 101us/step - loss: 0.2818 - acc: 0.9188 - auc_roc: 0.4996 - val_loss: 0.2777 - val_acc: 0.9204 - val_auc_roc: 0.4996\n",
      "Epoch 27/1500\n",
      "215257/215257 [==============================] - 23s 105us/step - loss: 0.2818 - acc: 0.9188 - auc_roc: 0.4996 - val_loss: 0.2777 - val_acc: 0.9204 - val_auc_roc: 0.4995\n",
      "Epoch 28/1500\n",
      "215257/215257 [==============================] - 22s 100us/step - loss: 0.2818 - acc: 0.9188 - auc_roc: 0.4996 - val_loss: 0.2778 - val_acc: 0.9204 - val_auc_roc: 0.4996\n",
      "Epoch 29/1500\n",
      "197248/215257 [==========================>...] - ETA: 1s - loss: 0.2815 - acc: 0.9189 - auc_roc: 0.4996"
     ]
    }
   ],
   "source": [
    "train_nn(X_train,X_test,y_train,y_test)"
   ]
  }
 ],
 "metadata": {
  "kernelspec": {
   "display_name": "Python 3",
   "language": "python",
   "name": "python3"
  },
  "language_info": {
   "codemirror_mode": {
    "name": "ipython",
    "version": 3
   },
   "file_extension": ".py",
   "mimetype": "text/x-python",
   "name": "python",
   "nbconvert_exporter": "python",
   "pygments_lexer": "ipython3",
   "version": "3.6.5"
  }
 },
 "nbformat": 4,
 "nbformat_minor": 2
}
