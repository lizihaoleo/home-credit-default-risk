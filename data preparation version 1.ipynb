{
 "cells": [
  {
   "cell_type": "code",
   "execution_count": 4,
   "metadata": {
    "collapsed": true
   },
   "outputs": [],
   "source": [
    "%matplotlib inline\n",
    "# pandas and numpy for data manipulation\n",
    "import pandas as pd\n",
    "import numpy as np\n",
    "\n",
    "# matplotlib and seaborn for plotting\n",
    "import matplotlib.pyplot as plt\n",
    "import seaborn as sns\n",
    "\n",
    "from sklearn.cross_validation import train_test_split\n",
    "from sklearn.preprocessing import MinMaxScaler, Imputer\n",
    "\n",
    "# Suppress warnings from pandas\n",
    "import warnings\n",
    "warnings.filterwarnings('ignore')\n",
    "\n",
    "plt.style.use('fivethirtyeight')\n",
    "\n",
    "from helper import *"
   ]
  },
  {
   "cell_type": "code",
   "execution_count": 5,
   "metadata": {
    "collapsed": true
   },
   "outputs": [],
   "source": [
    "app_train = pd.read_csv('./input/application_train.csv')\n",
    "app_test = pd.read_csv('./input/application_test.csv')"
   ]
  },
  {
   "cell_type": "code",
   "execution_count": 6,
   "metadata": {},
   "outputs": [
    {
     "name": "stdout",
     "output_type": "stream",
     "text": [
      "Training Features shape after one-hoe enconding:  (307511, 246)\n",
      "Testing Features shape after one-hoe enconding:  (48744, 242)\n",
      "Training Features shape after align:  (307511, 243)\n",
      "Testing Features shape after align:  (48744, 242)\n",
      "Final Training Features shape:  (307511, 243)\n",
      "Final Testing Features shape:  (48744, 242)\n"
     ]
    }
   ],
   "source": [
    "app_train, app_test = standard_preprocess(app_train, app_test)"
   ]
  },
  {
   "cell_type": "code",
   "execution_count": null,
   "metadata": {
    "collapsed": true
   },
   "outputs": [],
   "source": [
    "df = app_train.append(app_test).reset_index()"
   ]
  },
  {
   "cell_type": "markdown",
   "metadata": {},
   "source": [
    "### Breau dataset\n",
    " - All client's previous credits provided by other financial institutions that were reported to Credit Bureau (for clients who have a loan in our sample).\n",
    " - For every loan in our sample, there are as many rows as number of credits the client had in Credit Bureau before the application date.\n",
    "\n",
    "For the numerical features, we will find the numeric stats.\n",
    "\n",
    "For categorical features, we will have one-hot-encode first, then find out counts and normalized counts."
   ]
  },
  {
   "cell_type": "code",
   "execution_count": 7,
   "metadata": {
    "collapsed": true
   },
   "outputs": [],
   "source": [
    "bureau = pd.read_csv('./input/bureau.csv')\n",
    "bureau_balance = pd.read_csv('./input/bureau_balance.csv')"
   ]
  },
  {
   "cell_type": "code",
   "execution_count": 8,
   "metadata": {
    "collapsed": true
   },
   "outputs": [],
   "source": [
    "bureau_counts = count_categorical(bureau, group_var = 'SK_ID_CURR', df_name = 'bureau')\n",
    "bureau_agg = agg_numeric(bureau, group_var = 'SK_ID_CURR', df_name = 'bureau')"
   ]
  },
  {
   "cell_type": "markdown",
   "metadata": {},
   "source": [
    "### Bureau Balance dataset\n",
    "We will process the bureau balance dataframe. This dataframe has monthly information about each client's previous loan(s) with other financial institutions. Instead of grouping this dataframe by the SK_ID_CURR which is the client id, we will first group the dataframe by the SK_ID_BUREAU which is the id of the previous loan. This will give us one row of the dataframe for each loan. Then, we can group by the SK_ID_CURR and calculate the aggregations across the loans of each client. The final result will be a dataframe with one row for each client, with stats calculated for their loans.\n",
    "\n",
    "To recap, for the bureau_balance dataframe we:\n",
    "\n",
    "1. Calculated numeric stats grouping by each loan\n",
    "2. Made value counts of each categorical variable grouping by loan\n",
    "3. Merged the stats and the value counts on the loans\n",
    "4. Calculated numeric stats for the resulting dataframe grouping by the client id\n",
    "\n",
    "The final resulting dataframe has one row for each client, with statistics calculated for all of their loans with monthly balance information."
   ]
  },
  {
   "cell_type": "code",
   "execution_count": 9,
   "metadata": {
    "collapsed": true
   },
   "outputs": [],
   "source": [
    "bureau_balance_counts = count_categorical(bureau_balance, group_var = 'SK_ID_BUREAU', df_name = 'bureau_balance')\n",
    "bureau_balance_agg = agg_numeric(bureau_balance, group_var = 'SK_ID_BUREAU', df_name = 'bureau_balance')"
   ]
  },
  {
   "cell_type": "code",
   "execution_count": 10,
   "metadata": {
    "collapsed": true
   },
   "outputs": [],
   "source": [
    "# Dataframe grouped by the loan\n",
    "bureau_by_loan = bureau_balance_agg.merge(bureau_balance_counts, right_index = True, left_on = 'SK_ID_BUREAU', how = 'outer')\n",
    "\n",
    "# Merge to include the SK_ID_CURR\n",
    "bureau_by_loan = bureau[['SK_ID_BUREAU', 'SK_ID_CURR']].merge(bureau_by_loan, on = 'SK_ID_BUREAU', how = 'left')\n",
    "\n",
    "# Aggregate the stats for each client\n",
    "bureau_balance_by_client = agg_numeric(bureau_by_loan, group_var = 'SK_ID_CURR', df_name = 'client')"
   ]
  },
  {
   "cell_type": "code",
   "execution_count": 11,
   "metadata": {
    "collapsed": true
   },
   "outputs": [],
   "source": [
    "# Merge with the value counts of bureau\n",
    "app_train = app_train.merge(bureau_counts, on = 'SK_ID_CURR', how = 'left')\n",
    "\n",
    "# Merge with the stats of bureau\n",
    "app_train = app_train.merge(bureau_agg, on = 'SK_ID_CURR', how = 'left')\n",
    "\n",
    "# Merge with the monthly information grouped by client\n",
    "app_train = app_train.merge(bureau_balance_by_client, on = 'SK_ID_CURR', how = 'left')"
   ]
  },
  {
   "cell_type": "code",
   "execution_count": 12,
   "metadata": {
    "collapsed": true
   },
   "outputs": [],
   "source": [
    "# Merge with the value counts of bureau\n",
    "app_test = app_test.merge(bureau_counts, on = 'SK_ID_CURR', how = 'left')\n",
    "\n",
    "# Merge with the stats of bureau\n",
    "app_test = app_test.merge(bureau_agg, on = 'SK_ID_CURR', how = 'left')\n",
    "\n",
    "# Merge with the value counts of bureau balance\n",
    "app_test = app_test.merge(bureau_balance_by_client, on = 'SK_ID_CURR', how = 'left')"
   ]
  },
  {
   "cell_type": "code",
   "execution_count": 13,
   "metadata": {},
   "outputs": [
    {
     "name": "stdout",
     "output_type": "stream",
     "text": [
      "Training Data Shape:  (307511, 454)\n",
      "Testing Data Shape:  (48744, 453)\n"
     ]
    }
   ],
   "source": [
    "train_labels = app_train['TARGET']\n",
    "\n",
    "# Align the dataframes, this will remove the 'TARGET' column\n",
    "app_train, app_test = app_train.align(app_test, join = 'inner', axis = 1)\n",
    "\n",
    "app_train['TARGET'] = train_labels\n",
    "\n",
    "print('Training Data Shape: ', app_train.shape)\n",
    "print('Testing Data Shape: ', app_test.shape)"
   ]
  },
  {
   "cell_type": "code",
   "execution_count": 14,
   "metadata": {},
   "outputs": [
    {
     "data": {
      "text/plain": [
       "182"
      ]
     },
     "execution_count": 14,
     "metadata": {},
     "output_type": "execute_result"
    }
   ],
   "source": [
    "# Free up memory by deleting old objects\n",
    "import gc\n",
    "gc.enable()\n",
    "del bureau, bureau_balance, bureau_agg, bureau_balance_agg, \\\n",
    "bureau_balance_counts, bureau_by_loan, bureau_balance_by_client, bureau_counts\n",
    "gc.collect()"
   ]
  },
  {
   "cell_type": "markdown",
   "metadata": {},
   "source": [
    "### previous_application.csv\n",
    "\n",
    " - All previous applications for Home Credit loans of clients who have loans in our sample.\n",
    " - There is one row for each previous application related to loans in our data sample."
   ]
  },
  {
   "cell_type": "code",
   "execution_count": 15,
   "metadata": {
    "collapsed": true
   },
   "outputs": [],
   "source": [
    "prev = pd.read_csv('./input/previous_application.csv')\n",
    "\n",
    "# Days 365.243 values -> nan\n",
    "prev['DAYS_FIRST_DRAWING'].replace(365243, np.nan, inplace= True)\n",
    "prev['DAYS_FIRST_DUE'].replace(365243, np.nan, inplace= True)\n",
    "prev['DAYS_LAST_DUE_1ST_VERSION'].replace(365243, np.nan, inplace= True)\n",
    "prev['DAYS_LAST_DUE'].replace(365243, np.nan, inplace= True)\n",
    "prev['DAYS_TERMINATION'].replace(365243, np.nan, inplace= True)\n",
    "\n",
    "# Add feature: value ask / value received percentage\n",
    "prev['APP_CREDIT_PERC'] = prev['AMT_APPLICATION'] / prev['AMT_CREDIT']"
   ]
  },
  {
   "cell_type": "code",
   "execution_count": 16,
   "metadata": {
    "collapsed": true
   },
   "outputs": [],
   "source": [
    "prev_agg = agg_numeric(prev, group_var = 'SK_ID_CURR', df_name = 'prev')\n",
    "prev_cat = count_categorical(prev, group_var = 'SK_ID_CURR', df_name = 'prev')\n",
    "\n",
    "# Add feature: approved percentage\n",
    "prev_cat['apv_percent'] = prev_cat['prev_NAME_CONTRACT_STATUS_Approved_count'] / (prev_cat['prev_NAME_CONTRACT_STATUS_Approved_count'] + prev_cat['prev_NAME_CONTRACT_STATUS_Refused_count'])"
   ]
  },
  {
   "cell_type": "code",
   "execution_count": 17,
   "metadata": {
    "collapsed": true
   },
   "outputs": [],
   "source": [
    "# Merge with the value counts of previous\n",
    "app_train = app_train.merge(prev_cat, on = 'SK_ID_CURR', how = 'left')\n",
    "\n",
    "# Merge with the stats of previous\n",
    "app_train = app_train.merge(prev_agg, on = 'SK_ID_CURR', how = 'left')\n",
    "\n",
    "# Merge with the value counts of previous\n",
    "app_test = app_test.merge(prev_cat, on = 'SK_ID_CURR', how = 'left')\n",
    "\n",
    "# Merge with the stats of previous\n",
    "app_test = app_test.merge(prev_agg, on = 'SK_ID_CURR', how = 'left')\n"
   ]
  },
  {
   "cell_type": "code",
   "execution_count": 18,
   "metadata": {},
   "outputs": [
    {
     "name": "stdout",
     "output_type": "stream",
     "text": [
      "Training Data Shape:  (307511, 841)\n",
      "Testing Data Shape:  (48744, 840)\n"
     ]
    },
    {
     "data": {
      "text/plain": [
       "91"
      ]
     },
     "execution_count": 18,
     "metadata": {},
     "output_type": "execute_result"
    }
   ],
   "source": [
    "train_labels = app_train['TARGET']\n",
    "\n",
    "# Align the dataframes, this will remove the 'TARGET' column\n",
    "app_train, app_test = app_train.align(app_test, join = 'inner', axis = 1)\n",
    "\n",
    "app_train['TARGET'] = train_labels\n",
    "\n",
    "print('Training Data Shape: ', app_train.shape)\n",
    "print('Testing Data Shape: ', app_test.shape)\n",
    "\n",
    "del prev, prev_agg, prev_cat\n",
    "gc.collect()"
   ]
  },
  {
   "cell_type": "markdown",
   "metadata": {},
   "source": [
    "### Installments_payments.csv\n",
    "\n",
    "- Repayment history for the previously disbursed credits in Home Credit related to the loans in our sample.\n",
    "- There is a) one row for every payment that was made plus b) one row each for missed payment.\n",
    "- One row is equivalent to one payment of one installment OR one installment corresponding to one payment of one previous Home Credit credit related to loans in our sample."
   ]
  },
  {
   "cell_type": "code",
   "execution_count": 19,
   "metadata": {
    "collapsed": true
   },
   "outputs": [],
   "source": [
    "ins = pd.read_csv('./input/installments_payments.csv')\n",
    "\n",
    "# Percentage and difference paid in each installment (amount paid and installment value)\n",
    "ins['PAYMENT_PERC'] = ins['AMT_PAYMENT'] / ins['AMT_INSTALMENT']\n",
    "ins['PAYMENT_DIFF'] = ins['AMT_INSTALMENT'] - ins['AMT_PAYMENT']\n",
    "\n",
    "# Days past due and days before due (no negative values)\n",
    "ins['DPD'] = ins['DAYS_ENTRY_PAYMENT'] - ins['DAYS_INSTALMENT']\n",
    "ins['DBD'] = ins['DAYS_INSTALMENT'] - ins['DAYS_ENTRY_PAYMENT']\n",
    "ins['DPD'] = ins['DPD'].apply(lambda x: x if x > 0 else 0)\n",
    "ins['DBD'] = ins['DBD'].apply(lambda x: x if x > 0 else 0)"
   ]
  },
  {
   "cell_type": "code",
   "execution_count": 20,
   "metadata": {},
   "outputs": [
    {
     "data": {
      "text/plain": [
       "203"
      ]
     },
     "execution_count": 20,
     "metadata": {},
     "output_type": "execute_result"
    }
   ],
   "source": [
    "ins_agg = agg_numeric(ins, group_var = 'SK_ID_CURR', df_name = 'install')\n",
    "\n",
    "# Count installments accounts\n",
    "ins_agg['INSTAL_COUNT'] = ins.groupby('SK_ID_CURR').size()\n",
    "\n",
    "del ins\n",
    "gc.collect()"
   ]
  },
  {
   "cell_type": "code",
   "execution_count": 21,
   "metadata": {
    "collapsed": true
   },
   "outputs": [],
   "source": [
    "# Merge with the value counts of install payment\n",
    "app_train = app_train.merge(ins_agg, on = 'SK_ID_CURR', how = 'left')\n",
    "\n",
    "# Merge with the value counts of install payment\n",
    "app_test = app_test.merge(ins_agg, on = 'SK_ID_CURR', how = 'left')"
   ]
  },
  {
   "cell_type": "markdown",
   "metadata": {},
   "source": [
    "### credit_card_balance.csv\n",
    "\n",
    "- Monthly balance snapshots of previous credit cards that the applicant has with Home Credit.\n",
    "- This table has one row for each month of history of every previous credit in Home -Credit (consumer credit and cash loans) related to loans in our sample – i.e. the table has (#loans in sample * # of relative previous credit cards * # of months where we have some history observable for the previous credit card) rows."
   ]
  },
  {
   "cell_type": "code",
   "execution_count": 22,
   "metadata": {},
   "outputs": [
    {
     "data": {
      "text/plain": [
       "84"
      ]
     },
     "execution_count": 22,
     "metadata": {},
     "output_type": "execute_result"
    }
   ],
   "source": [
    "cc = pd.read_csv('./input/credit_card_balance.csv')\n",
    "cc.drop(['SK_ID_PREV'], axis= 1, inplace = True)\n",
    "cc_agg = agg_numeric(cc, group_var = 'SK_ID_CURR', df_name = 'cc')\n",
    "cc_agg['CC_COUNT'] = cc.groupby('SK_ID_CURR').size()\n",
    "\n",
    "del cc\n",
    "gc.collect()"
   ]
  },
  {
   "cell_type": "code",
   "execution_count": 23,
   "metadata": {},
   "outputs": [
    {
     "name": "stdout",
     "output_type": "stream",
     "text": [
      "(307511, 993)\n",
      "(48744, 992)\n"
     ]
    },
    {
     "data": {
      "text/plain": [
       "35"
      ]
     },
     "execution_count": 23,
     "metadata": {},
     "output_type": "execute_result"
    }
   ],
   "source": [
    "# Merge with the value counts of install payment\n",
    "app_train = app_train.merge(cc_agg, on = 'SK_ID_CURR', how = 'left')\n",
    "\n",
    "# Merge with the value counts of install payment\n",
    "app_test = app_test.merge(cc_agg, on = 'SK_ID_CURR', how = 'left')\n",
    "\n",
    "print(app_train.shape)\n",
    "print(app_test.shape)\n",
    "\n",
    "del cc_agg\n",
    "gc.collect()"
   ]
  },
  {
   "cell_type": "code",
   "execution_count": 24,
   "metadata": {
    "collapsed": true
   },
   "outputs": [],
   "source": [
    "app_train.to_csv('./preprocessed_data/train_all_data_raw.csv', index = False)\n",
    "app_test.to_csv('./preprocessed_data/testall_data_raw.csv', index = False)"
   ]
  },
  {
   "cell_type": "code",
   "execution_count": 3,
   "metadata": {
    "collapsed": true
   },
   "outputs": [],
   "source": [
    "app_train = pd.read_csv('./preprocessed_data/train_all_data_raw.csv')\n",
    "app_test = pd.read_csv('./preprocessed_data/testall_data_raw.csv')"
   ]
  },
  {
   "cell_type": "code",
   "execution_count": 4,
   "metadata": {},
   "outputs": [
    {
     "name": "stdout",
     "output_type": "stream",
     "text": [
      "Training Data Shape:  (307511, 991)\n",
      "Testing Data Shape:  (48744, 991)\n",
      "Training until validation scores don't improve for 100 rounds.\n",
      "[200]\tvalid's auc: 0.783105\ttrain's auc: 0.831619\n",
      "[400]\tvalid's auc: 0.784282\ttrain's auc: 0.867815\n",
      "Early stopping, best iteration is:\n",
      "[423]\tvalid's auc: 0.784363\ttrain's auc: 0.871409\n",
      "Training until validation scores don't improve for 100 rounds.\n",
      "[200]\tvalid's auc: 0.785826\ttrain's auc: 0.830652\n",
      "[400]\tvalid's auc: 0.78721\ttrain's auc: 0.867219\n",
      "Early stopping, best iteration is:\n",
      "[358]\tvalid's auc: 0.787584\ttrain's auc: 0.860782\n",
      "Training until validation scores don't improve for 100 rounds.\n",
      "[200]\tvalid's auc: 0.779992\ttrain's auc: 0.832625\n",
      "[400]\tvalid's auc: 0.781907\ttrain's auc: 0.869113\n",
      "Early stopping, best iteration is:\n",
      "[468]\tvalid's auc: 0.782077\ttrain's auc: 0.879026\n",
      "Training until validation scores don't improve for 100 rounds.\n",
      "[200]\tvalid's auc: 0.78416\ttrain's auc: 0.83125\n",
      "[400]\tvalid's auc: 0.784836\ttrain's auc: 0.868263\n",
      "Early stopping, best iteration is:\n",
      "[364]\tvalid's auc: 0.785014\ttrain's auc: 0.862451\n",
      "Training until validation scores don't improve for 100 rounds.\n",
      "[200]\tvalid's auc: 0.785649\ttrain's auc: 0.831257\n",
      "[400]\tvalid's auc: 0.787008\ttrain's auc: 0.867806\n",
      "Early stopping, best iteration is:\n",
      "[444]\tvalid's auc: 0.787299\ttrain's auc: 0.874195\n"
     ]
    }
   ],
   "source": [
    "submission, fi, metrics = lgb_model(app_train, app_test)"
   ]
  },
  {
   "cell_type": "code",
   "execution_count": 5,
   "metadata": {},
   "outputs": [
    {
     "data": {
      "text/html": [
       "<div>\n",
       "<style scoped>\n",
       "    .dataframe tbody tr th:only-of-type {\n",
       "        vertical-align: middle;\n",
       "    }\n",
       "\n",
       "    .dataframe tbody tr th {\n",
       "        vertical-align: top;\n",
       "    }\n",
       "\n",
       "    .dataframe thead th {\n",
       "        text-align: right;\n",
       "    }\n",
       "</style>\n",
       "<table border=\"1\" class=\"dataframe\">\n",
       "  <thead>\n",
       "    <tr style=\"text-align: right;\">\n",
       "      <th></th>\n",
       "      <th>fold</th>\n",
       "      <th>train</th>\n",
       "      <th>valid</th>\n",
       "    </tr>\n",
       "  </thead>\n",
       "  <tbody>\n",
       "    <tr>\n",
       "      <th>0</th>\n",
       "      <td>0</td>\n",
       "      <td>0.871409</td>\n",
       "      <td>0.784363</td>\n",
       "    </tr>\n",
       "    <tr>\n",
       "      <th>1</th>\n",
       "      <td>1</td>\n",
       "      <td>0.860782</td>\n",
       "      <td>0.787584</td>\n",
       "    </tr>\n",
       "    <tr>\n",
       "      <th>2</th>\n",
       "      <td>2</td>\n",
       "      <td>0.879026</td>\n",
       "      <td>0.782077</td>\n",
       "    </tr>\n",
       "    <tr>\n",
       "      <th>3</th>\n",
       "      <td>3</td>\n",
       "      <td>0.862451</td>\n",
       "      <td>0.785014</td>\n",
       "    </tr>\n",
       "    <tr>\n",
       "      <th>4</th>\n",
       "      <td>4</td>\n",
       "      <td>0.874195</td>\n",
       "      <td>0.787299</td>\n",
       "    </tr>\n",
       "    <tr>\n",
       "      <th>5</th>\n",
       "      <td>overall</td>\n",
       "      <td>0.869573</td>\n",
       "      <td>0.785235</td>\n",
       "    </tr>\n",
       "  </tbody>\n",
       "</table>\n",
       "</div>"
      ],
      "text/plain": [
       "      fold     train     valid\n",
       "0        0  0.871409  0.784363\n",
       "1        1  0.860782  0.787584\n",
       "2        2  0.879026  0.782077\n",
       "3        3  0.862451  0.785014\n",
       "4        4  0.874195  0.787299\n",
       "5  overall  0.869573  0.785235"
      ]
     },
     "execution_count": 5,
     "metadata": {},
     "output_type": "execute_result"
    }
   ],
   "source": [
    "metrics"
   ]
  },
  {
   "cell_type": "code",
   "execution_count": 6,
   "metadata": {},
   "outputs": [
    {
     "data": {
      "image/png": "[encoded data removed]",
      "text/plain": [
       "<matplotlib.figure.Figure at 0x7f59d49e0710>"
      ]
     },
     "metadata": {},
     "output_type": "display_data"
    }
   ],
   "source": [
    "fi_sorted = plot_feature_importances(fi)"
   ]
  },
  {
   "cell_type": "code",
   "execution_count": 7,
   "metadata": {},
   "outputs": [
    {
     "name": "stdout",
     "output_type": "stream",
     "text": [
      "Before drop zero importance cloumns training shape:  (307511, 993)\n",
      "Before drop zero importance cloumns testing shape:  (48744, 992)\n",
      "Drop  233  Column(s)\n",
      "After drop zero importance cloumns training shape:  (307511, 760)\n",
      "After drop zero importance cloumns testing shape:  (48744, 759)\n"
     ]
    }
   ],
   "source": [
    "app_train, app_test = \\\n",
    "drop_fi_zero_imp(app_train, app_test, fi_sorted)"
   ]
  },
  {
   "cell_type": "code",
   "execution_count": null,
   "metadata": {
    "collapsed": true
   },
   "outputs": [],
   "source": [
    "app_train, app_test = \\\n",
    "remove_cor(app_train, app_test, threshold=.9)"
   ]
  },
  {
   "cell_type": "code",
   "execution_count": null,
   "metadata": {
    "collapsed": true
   },
   "outputs": [],
   "source": [
    "submission, fi, metrics = lgb_model(app_train, app_test)"
   ]
  },
  {
   "cell_type": "code",
   "execution_count": null,
   "metadata": {
    "collapsed": true
   },
   "outputs": [],
   "source": [
    "metrics"
   ]
  },
  {
   "cell_type": "code",
   "execution_count": 10,
   "metadata": {
    "collapsed": true
   },
   "outputs": [],
   "source": [
    "submission.to_csv('./model_performance/all_data_pred.csv', index = False)"
   ]
  }
 ],
 "metadata": {
  "kernelspec": {
   "display_name": "Python 3",
   "language": "python",
   "name": "python3"
  },
  "language_info": {
   "codemirror_mode": {
    "name": "ipython",
    "version": 3
   },
   "file_extension": ".py",
   "mimetype": "text/x-python",
   "name": "python",
   "nbconvert_exporter": "python",
   "pygments_lexer": "ipython3",
   "version": "3.6.5"
  }
 },
 "nbformat": 4,
 "nbformat_minor": 2
}
